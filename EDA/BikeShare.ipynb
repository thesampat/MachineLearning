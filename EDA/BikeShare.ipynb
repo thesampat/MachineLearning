{
 "cells": [
  {
   "cell_type": "code",
   "execution_count": 1,
   "id": "82420259",
   "metadata": {},
   "outputs": [],
   "source": [
    "import pandas as pd\n",
    "import numpy as np\n",
    "import seaborn as sns\n",
    "import matplotlib.pyplot as plt"
   ]
  },
  {
   "cell_type": "code",
   "execution_count": 2,
   "id": "d03df541",
   "metadata": {},
   "outputs": [],
   "source": [
    "path  = '/home/sam/Desktop/MachienLearning/BikeShare/'"
   ]
  },
  {
   "cell_type": "code",
   "execution_count": 3,
   "id": "75d4b547",
   "metadata": {},
   "outputs": [],
   "source": [
    "chi = pd.read_csv(path+'Chicago.csv')\n",
    "nyc = pd.read_csv(path+'Nyc.csv')\n",
    "Wash = pd.read_csv(path+'Washington.csv')"
   ]
  },
  {
   "cell_type": "code",
   "execution_count": 4,
   "id": "eaa66523",
   "metadata": {},
   "outputs": [],
   "source": [
    "df = chi"
   ]
  },
  {
   "cell_type": "code",
   "execution_count": 5,
   "id": "efb39c2d",
   "metadata": {},
   "outputs": [
    {
     "name": "stdout",
     "output_type": "stream",
     "text": [
      "<class 'pandas.core.frame.DataFrame'>\n",
      "RangeIndex: 72131 entries, 0 to 72130\n",
      "Data columns (total 12 columns):\n",
      " #   Column             Non-Null Count  Dtype  \n",
      "---  ------             --------------  -----  \n",
      " 0   trip_id            72131 non-null  int64  \n",
      " 1   starttime          72131 non-null  object \n",
      " 2   stoptime           72131 non-null  object \n",
      " 3   bikeid             72131 non-null  int64  \n",
      " 4   tripduration       72131 non-null  int64  \n",
      " 5   from_station_id    72131 non-null  int64  \n",
      " 6   from_station_name  72131 non-null  object \n",
      " 7   to_station_id      72131 non-null  int64  \n",
      " 8   to_station_name    72131 non-null  object \n",
      " 9   usertype           72131 non-null  object \n",
      " 10  gender             54977 non-null  object \n",
      " 11  birthyear          54986 non-null  float64\n",
      "dtypes: float64(1), int64(5), object(6)\n",
      "memory usage: 6.6+ MB\n"
     ]
    }
   ],
   "source": [
    "df.info()"
   ]
  },
  {
   "cell_type": "code",
   "execution_count": 6,
   "id": "3f548c39",
   "metadata": {},
   "outputs": [
    {
     "data": {
      "text/html": [
       "<div>\n",
       "<style scoped>\n",
       "    .dataframe tbody tr th:only-of-type {\n",
       "        vertical-align: middle;\n",
       "    }\n",
       "\n",
       "    .dataframe tbody tr th {\n",
       "        vertical-align: top;\n",
       "    }\n",
       "\n",
       "    .dataframe thead th {\n",
       "        text-align: right;\n",
       "    }\n",
       "</style>\n",
       "<table border=\"1\" class=\"dataframe\">\n",
       "  <thead>\n",
       "    <tr style=\"text-align: right;\">\n",
       "      <th></th>\n",
       "      <th>trip_id</th>\n",
       "      <th>starttime</th>\n",
       "      <th>stoptime</th>\n",
       "      <th>bikeid</th>\n",
       "      <th>tripduration</th>\n",
       "      <th>from_station_id</th>\n",
       "      <th>from_station_name</th>\n",
       "      <th>to_station_id</th>\n",
       "      <th>to_station_name</th>\n",
       "      <th>usertype</th>\n",
       "      <th>gender</th>\n",
       "      <th>birthyear</th>\n",
       "    </tr>\n",
       "  </thead>\n",
       "  <tbody>\n",
       "    <tr>\n",
       "      <th>0</th>\n",
       "      <td>9080545</td>\n",
       "      <td>3/31/2016 23:30</td>\n",
       "      <td>3/31/2016 23:46</td>\n",
       "      <td>2295</td>\n",
       "      <td>926</td>\n",
       "      <td>156</td>\n",
       "      <td>Clark St &amp; Wellington Ave</td>\n",
       "      <td>166</td>\n",
       "      <td>Ashland Ave &amp; Wrightwood Ave</td>\n",
       "      <td>Subscriber</td>\n",
       "      <td>Male</td>\n",
       "      <td>1990.0</td>\n",
       "    </tr>\n",
       "    <tr>\n",
       "      <th>1</th>\n",
       "      <td>9080521</td>\n",
       "      <td>3/31/2016 22:59</td>\n",
       "      <td>3/31/2016 23:02</td>\n",
       "      <td>3439</td>\n",
       "      <td>198</td>\n",
       "      <td>259</td>\n",
       "      <td>California Ave &amp; Francis Pl</td>\n",
       "      <td>276</td>\n",
       "      <td>California Ave &amp; North Ave</td>\n",
       "      <td>Subscriber</td>\n",
       "      <td>Male</td>\n",
       "      <td>1974.0</td>\n",
       "    </tr>\n",
       "    <tr>\n",
       "      <th>2</th>\n",
       "      <td>9080479</td>\n",
       "      <td>3/31/2016 22:24</td>\n",
       "      <td>3/31/2016 22:26</td>\n",
       "      <td>4337</td>\n",
       "      <td>124</td>\n",
       "      <td>344</td>\n",
       "      <td>Ravenswood Ave &amp; Lawrence Ave</td>\n",
       "      <td>242</td>\n",
       "      <td>Damen Ave &amp; Leland Ave</td>\n",
       "      <td>Subscriber</td>\n",
       "      <td>Female</td>\n",
       "      <td>1992.0</td>\n",
       "    </tr>\n",
       "    <tr>\n",
       "      <th>3</th>\n",
       "      <td>9080475</td>\n",
       "      <td>3/31/2016 22:22</td>\n",
       "      <td>3/31/2016 22:41</td>\n",
       "      <td>3760</td>\n",
       "      <td>1181</td>\n",
       "      <td>318</td>\n",
       "      <td>Southport Ave &amp; Irving Park Rd</td>\n",
       "      <td>458</td>\n",
       "      <td>Broadway &amp; Thorndale Ave</td>\n",
       "      <td>Subscriber</td>\n",
       "      <td>Female</td>\n",
       "      <td>1979.0</td>\n",
       "    </tr>\n",
       "    <tr>\n",
       "      <th>4</th>\n",
       "      <td>9080443</td>\n",
       "      <td>3/31/2016 22:08</td>\n",
       "      <td>3/31/2016 22:19</td>\n",
       "      <td>1270</td>\n",
       "      <td>656</td>\n",
       "      <td>345</td>\n",
       "      <td>Lake Park Ave &amp; 56th St</td>\n",
       "      <td>426</td>\n",
       "      <td>Ellis Ave &amp; 60th St</td>\n",
       "      <td>Subscriber</td>\n",
       "      <td>Female</td>\n",
       "      <td>1997.0</td>\n",
       "    </tr>\n",
       "  </tbody>\n",
       "</table>\n",
       "</div>"
      ],
      "text/plain": [
       "   trip_id        starttime         stoptime  bikeid  tripduration  \\\n",
       "0  9080545  3/31/2016 23:30  3/31/2016 23:46    2295           926   \n",
       "1  9080521  3/31/2016 22:59  3/31/2016 23:02    3439           198   \n",
       "2  9080479  3/31/2016 22:24  3/31/2016 22:26    4337           124   \n",
       "3  9080475  3/31/2016 22:22  3/31/2016 22:41    3760          1181   \n",
       "4  9080443  3/31/2016 22:08  3/31/2016 22:19    1270           656   \n",
       "\n",
       "   from_station_id               from_station_name  to_station_id  \\\n",
       "0              156       Clark St & Wellington Ave            166   \n",
       "1              259     California Ave & Francis Pl            276   \n",
       "2              344   Ravenswood Ave & Lawrence Ave            242   \n",
       "3              318  Southport Ave & Irving Park Rd            458   \n",
       "4              345         Lake Park Ave & 56th St            426   \n",
       "\n",
       "                to_station_name    usertype  gender  birthyear  \n",
       "0  Ashland Ave & Wrightwood Ave  Subscriber    Male     1990.0  \n",
       "1    California Ave & North Ave  Subscriber    Male     1974.0  \n",
       "2        Damen Ave & Leland Ave  Subscriber  Female     1992.0  \n",
       "3      Broadway & Thorndale Ave  Subscriber  Female     1979.0  \n",
       "4           Ellis Ave & 60th St  Subscriber  Female     1997.0  "
      ]
     },
     "execution_count": 6,
     "metadata": {},
     "output_type": "execute_result"
    }
   ],
   "source": [
    "df.head()"
   ]
  },
  {
   "cell_type": "code",
   "execution_count": 7,
   "id": "5830482b",
   "metadata": {},
   "outputs": [],
   "source": [
    "# lets remove string variables\n",
    "string_var = [col for col in df.columns if 'name' in col]"
   ]
  },
  {
   "cell_type": "code",
   "execution_count": 8,
   "id": "c12d9a21",
   "metadata": {},
   "outputs": [],
   "source": [
    "df.drop(string_var, axis=1, inplace =True)"
   ]
  },
  {
   "cell_type": "code",
   "execution_count": 9,
   "id": "dcef287f",
   "metadata": {},
   "outputs": [
    {
     "name": "stdout",
     "output_type": "stream",
     "text": [
      "<class 'pandas.core.frame.DataFrame'>\n",
      "RangeIndex: 72131 entries, 0 to 72130\n",
      "Data columns (total 10 columns):\n",
      " #   Column           Non-Null Count  Dtype  \n",
      "---  ------           --------------  -----  \n",
      " 0   trip_id          72131 non-null  int64  \n",
      " 1   starttime        72131 non-null  object \n",
      " 2   stoptime         72131 non-null  object \n",
      " 3   bikeid           72131 non-null  int64  \n",
      " 4   tripduration     72131 non-null  int64  \n",
      " 5   from_station_id  72131 non-null  int64  \n",
      " 6   to_station_id    72131 non-null  int64  \n",
      " 7   usertype         72131 non-null  object \n",
      " 8   gender           54977 non-null  object \n",
      " 9   birthyear        54986 non-null  float64\n",
      "dtypes: float64(1), int64(5), object(4)\n",
      "memory usage: 5.5+ MB\n"
     ]
    }
   ],
   "source": [
    "df.info()"
   ]
  },
  {
   "cell_type": "code",
   "execution_count": 10,
   "id": "bd58638a",
   "metadata": {},
   "outputs": [],
   "source": [
    "# lets convert time variables\n",
    "df['starttime'] = pd.to_datetime(df['starttime'])\n",
    "df['stoptime'] = pd.to_datetime(df['stoptime'])"
   ]
  },
  {
   "cell_type": "code",
   "execution_count": 11,
   "id": "8abd1d41",
   "metadata": {},
   "outputs": [],
   "source": [
    "df['day'] = df['stoptime'].dt.day - df['starttime'].dt.day\n",
    "df['month'] = df['stoptime'].dt.month - df['starttime'].dt.month\n",
    "df['year'] = df['stoptime'].dt.year - df['starttime'].dt.year"
   ]
  },
  {
   "cell_type": "code",
   "execution_count": 12,
   "id": "a8c41f22",
   "metadata": {},
   "outputs": [],
   "source": [
    "# find out max duration of riding\n",
    "df['duration'] = df['stoptime'] - df['starttime']"
   ]
  },
  {
   "cell_type": "code",
   "execution_count": 13,
   "id": "71568214",
   "metadata": {},
   "outputs": [],
   "source": [
    "a = df['duration'].dt.components['hours']\n",
    "b = df['duration'].dt.components['minutes']\n",
    "c= df['duration'].dt.components['seconds']\n",
    "d= df['duration'].dt.days"
   ]
  },
  {
   "cell_type": "code",
   "execution_count": 14,
   "id": "90d967a8",
   "metadata": {},
   "outputs": [],
   "source": [
    "df['dur'] = a + b + c + d"
   ]
  },
  {
   "cell_type": "code",
   "execution_count": 15,
   "id": "4e87b4bb",
   "metadata": {},
   "outputs": [],
   "source": [
    "i = np.arange(1, 72132, 1)"
   ]
  },
  {
   "cell_type": "code",
   "execution_count": 16,
   "id": "aae23927",
   "metadata": {},
   "outputs": [
    {
     "data": {
      "text/plain": [
       "count    72131.000000\n",
       "mean        14.165754\n",
       "std         10.041163\n",
       "min          1.000000\n",
       "25%          7.000000\n",
       "50%         12.000000\n",
       "75%         19.000000\n",
       "max         73.000000\n",
       "Name: dur, dtype: float64"
      ]
     },
     "execution_count": 16,
     "metadata": {},
     "output_type": "execute_result"
    }
   ],
   "source": [
    "df['dur'].describe()"
   ]
  },
  {
   "cell_type": "code",
   "execution_count": 17,
   "id": "73faf846",
   "metadata": {},
   "outputs": [
    {
     "name": "stderr",
     "output_type": "stream",
     "text": [
      "/home/sam/.local/lib/python3.6/site-packages/seaborn/_decorators.py:43: FutureWarning: Pass the following variable as a keyword arg: x. From version 0.12, the only valid positional argument will be `data`, and passing other arguments without an explicit keyword will result in an error or misinterpretation.\n",
      "  FutureWarning\n"
     ]
    },
    {
     "data": {
      "text/plain": [
       "<AxesSubplot:xlabel='dur'>"
      ]
     },
     "execution_count": 17,
     "metadata": {},
     "output_type": "execute_result"
    },
    {
     "data": {
      "image/png": "[encoded data removed]",
      "text/plain": [
       "<Figure size 432x288 with 1 Axes>"
      ]
     },
     "metadata": {
      "needs_background": "light"
     },
     "output_type": "display_data"
    }
   ],
   "source": [
    "sns.boxplot(df['dur'])"
   ]
  },
  {
   "cell_type": "markdown",
   "id": "0f72344b",
   "metadata": {},
   "source": [
    "## Which bike was most far rided??"
   ]
  },
  {
   "cell_type": "code",
   "execution_count": 18,
   "id": "37cbb573",
   "metadata": {},
   "outputs": [
    {
     "data": {
      "text/html": [
       "<div>\n",
       "<style scoped>\n",
       "    .dataframe tbody tr th:only-of-type {\n",
       "        vertical-align: middle;\n",
       "    }\n",
       "\n",
       "    .dataframe tbody tr th {\n",
       "        vertical-align: top;\n",
       "    }\n",
       "\n",
       "    .dataframe thead th {\n",
       "        text-align: right;\n",
       "    }\n",
       "</style>\n",
       "<table border=\"1\" class=\"dataframe\">\n",
       "  <thead>\n",
       "    <tr style=\"text-align: right;\">\n",
       "      <th></th>\n",
       "      <th>trip_id</th>\n",
       "      <th>starttime</th>\n",
       "      <th>stoptime</th>\n",
       "      <th>bikeid</th>\n",
       "      <th>tripduration</th>\n",
       "      <th>from_station_id</th>\n",
       "      <th>to_station_id</th>\n",
       "      <th>usertype</th>\n",
       "      <th>gender</th>\n",
       "      <th>birthyear</th>\n",
       "      <th>day</th>\n",
       "      <th>month</th>\n",
       "      <th>year</th>\n",
       "      <th>duration</th>\n",
       "      <th>dur</th>\n",
       "    </tr>\n",
       "  </thead>\n",
       "  <tbody>\n",
       "    <tr>\n",
       "      <th>57035</th>\n",
       "      <td>10507693</td>\n",
       "      <td>2016-07-04 19:16:00</td>\n",
       "      <td>2016-07-05 15:10:00</td>\n",
       "      <td>525</td>\n",
       "      <td>71662</td>\n",
       "      <td>518</td>\n",
       "      <td>495</td>\n",
       "      <td>Subscriber</td>\n",
       "      <td>Male</td>\n",
       "      <td>1984.0</td>\n",
       "      <td>1</td>\n",
       "      <td>0</td>\n",
       "      <td>0</td>\n",
       "      <td>0 days 19:54:00</td>\n",
       "      <td>73</td>\n",
       "    </tr>\n",
       "  </tbody>\n",
       "</table>\n",
       "</div>"
      ],
      "text/plain": [
       "        trip_id           starttime            stoptime  bikeid  tripduration  \\\n",
       "57035  10507693 2016-07-04 19:16:00 2016-07-05 15:10:00     525         71662   \n",
       "\n",
       "       from_station_id  to_station_id    usertype gender  birthyear  day  \\\n",
       "57035              518            495  Subscriber   Male     1984.0    1   \n",
       "\n",
       "       month  year        duration  dur  \n",
       "57035      0     0 0 days 19:54:00   73  "
      ]
     },
     "execution_count": 18,
     "metadata": {},
     "output_type": "execute_result"
    }
   ],
   "source": [
    "df[df['dur'] == 73]"
   ]
  },
  {
   "cell_type": "code",
   "execution_count": 19,
   "id": "06fdeda8",
   "metadata": {},
   "outputs": [],
   "source": [
    "df.drop([col for col in df.columns if 'time' in col], axis=1, inplace = True)"
   ]
  },
  {
   "cell_type": "code",
   "execution_count": 20,
   "id": "0f209b9a",
   "metadata": {},
   "outputs": [],
   "source": [
    "df.drop(['day', 'month', 'year'], axis =1, inplace = True)"
   ]
  },
  {
   "cell_type": "code",
   "execution_count": 21,
   "id": "8864be3f",
   "metadata": {},
   "outputs": [
    {
     "data": {
      "text/html": [
       "<div>\n",
       "<style scoped>\n",
       "    .dataframe tbody tr th:only-of-type {\n",
       "        vertical-align: middle;\n",
       "    }\n",
       "\n",
       "    .dataframe tbody tr th {\n",
       "        vertical-align: top;\n",
       "    }\n",
       "\n",
       "    .dataframe thead th {\n",
       "        text-align: right;\n",
       "    }\n",
       "</style>\n",
       "<table border=\"1\" class=\"dataframe\">\n",
       "  <thead>\n",
       "    <tr style=\"text-align: right;\">\n",
       "      <th></th>\n",
       "      <th>trip_id</th>\n",
       "      <th>bikeid</th>\n",
       "      <th>tripduration</th>\n",
       "      <th>from_station_id</th>\n",
       "      <th>to_station_id</th>\n",
       "      <th>usertype</th>\n",
       "      <th>gender</th>\n",
       "      <th>birthyear</th>\n",
       "      <th>duration</th>\n",
       "      <th>dur</th>\n",
       "    </tr>\n",
       "  </thead>\n",
       "  <tbody>\n",
       "    <tr>\n",
       "      <th>36356</th>\n",
       "      <td>11747944</td>\n",
       "      <td>1142</td>\n",
       "      <td>86365</td>\n",
       "      <td>252</td>\n",
       "      <td>252</td>\n",
       "      <td>Customer</td>\n",
       "      <td>NaN</td>\n",
       "      <td>NaN</td>\n",
       "      <td>1 days</td>\n",
       "      <td>1</td>\n",
       "    </tr>\n",
       "  </tbody>\n",
       "</table>\n",
       "</div>"
      ],
      "text/plain": [
       "        trip_id  bikeid  tripduration  from_station_id  to_station_id  \\\n",
       "36356  11747944    1142         86365              252            252   \n",
       "\n",
       "       usertype gender  birthyear duration  dur  \n",
       "36356  Customer    NaN        NaN   1 days    1  "
      ]
     },
     "execution_count": 21,
     "metadata": {},
     "output_type": "execute_result"
    }
   ],
   "source": [
    "df[df['tripduration']== df['tripduration'].max()]"
   ]
  },
  {
   "cell_type": "markdown",
   "id": "0c26e7ac",
   "metadata": {},
   "source": [
    "so the bikeid 1142 had rided most"
   ]
  },
  {
   "cell_type": "code",
   "execution_count": 22,
   "id": "d30af613",
   "metadata": {},
   "outputs": [],
   "source": [
    "## Which bikeid has used frequently"
   ]
  },
  {
   "cell_type": "code",
   "execution_count": 23,
   "id": "23fa1bde",
   "metadata": {},
   "outputs": [
    {
     "data": {
      "text/plain": [
       "<AxesSubplot:xlabel='bikeid'>"
      ]
     },
     "execution_count": 23,
     "metadata": {},
     "output_type": "execute_result"
    },
    {
     "data": {
      "image/png": "[encoded data removed]",
      "text/plain": [
       "<Figure size 432x288 with 1 Axes>"
      ]
     },
     "metadata": {
      "needs_background": "light"
     },
     "output_type": "display_data"
    }
   ],
   "source": [
    "df.groupby(['bikeid'])['bikeid'].sum().sort_values(ascending = False).head(20).plot.bar()"
   ]
  },
  {
   "cell_type": "code",
   "execution_count": 24,
   "id": "3db75c5d",
   "metadata": {},
   "outputs": [
    {
     "data": {
      "text/plain": [
       "<AxesSubplot:xlabel='bikeid'>"
      ]
     },
     "execution_count": 24,
     "metadata": {},
     "output_type": "execute_result"
    },
    {
     "data": {
      "image/png": "[encoded data removed]",
      "text/plain": [
       "<Figure size 432x288 with 1 Axes>"
      ]
     },
     "metadata": {
      "needs_background": "light"
     },
     "output_type": "display_data"
    }
   ],
   "source": [
    "df.groupby(['bikeid'])['bikeid'].sum().sort_values(ascending = True).head(20).plot.bar()"
   ]
  },
  {
   "cell_type": "code",
   "execution_count": 25,
   "id": "1655ead8",
   "metadata": {},
   "outputs": [
    {
     "data": {
      "text/plain": [
       "648     34\n",
       "5783    31\n",
       "3098    30\n",
       "1349    30\n",
       "3733    30\n",
       "        ..\n",
       "3188     1\n",
       "58       1\n",
       "3755     1\n",
       "3390     1\n",
       "5266     1\n",
       "Name: bikeid, Length: 5713, dtype: int64"
      ]
     },
     "execution_count": 25,
     "metadata": {},
     "output_type": "execute_result"
    }
   ],
   "source": [
    "df['bikeid'].sort_values(ascending = False).value_counts()"
   ]
  },
  {
   "cell_type": "code",
   "execution_count": 26,
   "id": "8ed78d88",
   "metadata": {},
   "outputs": [
    {
     "data": {
      "text/plain": [
       "<seaborn.axisgrid.FacetGrid at 0x7fddaf94f438>"
      ]
     },
     "execution_count": 26,
     "metadata": {},
     "output_type": "execute_result"
    },
    {
     "data": {
      "image/png": "[encoded data removed]",
      "text/plain": [
       "<Figure size 360x360 with 1 Axes>"
      ]
     },
     "metadata": {
      "needs_background": "light"
     },
     "output_type": "display_data"
    }
   ],
   "source": [
    "sns.displot(df['bikeid'], bins=80, kde=True)"
   ]
  },
  {
   "cell_type": "code",
   "execution_count": 27,
   "id": "d9302836",
   "metadata": {},
   "outputs": [
    {
     "data": {
      "text/plain": [
       "0    648\n",
       "dtype: int64"
      ]
     },
     "execution_count": 27,
     "metadata": {},
     "output_type": "execute_result"
    }
   ],
   "source": [
    "df['bikeid'].mode()"
   ]
  },
  {
   "cell_type": "code",
   "execution_count": 28,
   "id": "9bdc31d0",
   "metadata": {},
   "outputs": [
    {
     "data": {
      "text/plain": [
       "<AxesSubplot:xlabel='bikeid'>"
      ]
     },
     "execution_count": 28,
     "metadata": {},
     "output_type": "execute_result"
    },
    {
     "data": {
      "image/png": "[encoded data removed]",
      "text/plain": [
       "<Figure size 432x288 with 1 Axes>"
      ]
     },
     "metadata": {
      "needs_background": "light"
     },
     "output_type": "display_data"
    }
   ],
   "source": [
    "df.groupby(['bikeid']).size().sort_values(ascending=False).head(10).plot(kind= 'bar')"
   ]
  },
  {
   "cell_type": "markdown",
   "id": "cd849864",
   "metadata": {},
   "source": [
    "So most frequntly used bike is 648"
   ]
  },
  {
   "cell_type": "code",
   "execution_count": 29,
   "id": "a044eb29",
   "metadata": {},
   "outputs": [
    {
     "data": {
      "text/plain": [
       "<AxesSubplot:xlabel='from_station_id'>"
      ]
     },
     "execution_count": 29,
     "metadata": {},
     "output_type": "execute_result"
    },
    {
     "data": {
      "image/png": "[encoded data removed]",
      "text/plain": [
       "<Figure size 432x288 with 1 Axes>"
      ]
     },
     "metadata": {
      "needs_background": "light"
     },
     "output_type": "display_data"
    }
   ],
   "source": [
    "## most frequent station used\n",
    "# only start\n",
    "df.groupby(['from_station_id']).size().sort_values(ascending=False).head(10).plot(kind='bar')"
   ]
  },
  {
   "cell_type": "code",
   "execution_count": 30,
   "id": "2ed10681",
   "metadata": {},
   "outputs": [
    {
     "data": {
      "text/plain": [
       "<AxesSubplot:xlabel='to_station_id'>"
      ]
     },
     "execution_count": 30,
     "metadata": {},
     "output_type": "execute_result"
    },
    {
     "data": {
      "image/png": "[encoded data removed]",
      "text/plain": [
       "<Figure size 432x288 with 1 Axes>"
      ]
     },
     "metadata": {
      "needs_background": "light"
     },
     "output_type": "display_data"
    }
   ],
   "source": [
    "df.groupby(['to_station_id']).size().sort_values(ascending=False).head(10).plot(kind='bar')"
   ]
  },
  {
   "cell_type": "markdown",
   "id": "6d934502",
   "metadata": {},
   "source": [
    "Hence as per graph 35 is most Start and Stop location of growth"
   ]
  },
  {
   "cell_type": "code",
   "execution_count": 31,
   "id": "9421cd21",
   "metadata": {},
   "outputs": [],
   "source": [
    "# lets check objects columns\n",
    "obj = [col for col in df.columns if df[col].dtype == 'O']"
   ]
  },
  {
   "cell_type": "code",
   "execution_count": 32,
   "id": "c8bd69bd",
   "metadata": {},
   "outputs": [
    {
     "data": {
      "image/png": "[encoded data removed]",
      "text/plain": [
       "<Figure size 432x288 with 4 Axes>"
      ]
     },
     "metadata": {
      "needs_background": "light"
     },
     "output_type": "display_data"
    }
   ],
   "source": [
    "fig, axes = plt.subplots(2, 2, sharey = True)"
   ]
  },
  {
   "cell_type": "markdown",
   "id": "c1248b0d",
   "metadata": {},
   "source": [
    "# Washington DataBase"
   ]
  },
  {
   "cell_type": "code",
   "execution_count": 37,
   "id": "b32930c9",
   "metadata": {},
   "outputs": [],
   "source": [
    "df = Wash"
   ]
  },
  {
   "cell_type": "code",
   "execution_count": 38,
   "id": "65d88411",
   "metadata": {},
   "outputs": [
    {
     "data": {
      "text/html": [
       "<div>\n",
       "<style scoped>\n",
       "    .dataframe tbody tr th:only-of-type {\n",
       "        vertical-align: middle;\n",
       "    }\n",
       "\n",
       "    .dataframe tbody tr th {\n",
       "        vertical-align: top;\n",
       "    }\n",
       "\n",
       "    .dataframe thead th {\n",
       "        text-align: right;\n",
       "    }\n",
       "</style>\n",
       "<table border=\"1\" class=\"dataframe\">\n",
       "  <thead>\n",
       "    <tr style=\"text-align: right;\">\n",
       "      <th></th>\n",
       "      <th>Duration (ms)</th>\n",
       "      <th>Start date</th>\n",
       "      <th>End date</th>\n",
       "      <th>Start station number</th>\n",
       "      <th>Start station</th>\n",
       "      <th>End station number</th>\n",
       "      <th>End station</th>\n",
       "      <th>Bike number</th>\n",
       "      <th>Member Type</th>\n",
       "    </tr>\n",
       "  </thead>\n",
       "  <tbody>\n",
       "    <tr>\n",
       "      <th>0</th>\n",
       "      <td>427387</td>\n",
       "      <td>3/31/2016 22:57</td>\n",
       "      <td>3/31/2016 23:04</td>\n",
       "      <td>31602</td>\n",
       "      <td>Park Rd &amp; Holmead Pl NW</td>\n",
       "      <td>31207</td>\n",
       "      <td>Georgia Ave and Fairmont St NW</td>\n",
       "      <td>W20842</td>\n",
       "      <td>Registered</td>\n",
       "    </tr>\n",
       "    <tr>\n",
       "      <th>1</th>\n",
       "      <td>587551</td>\n",
       "      <td>3/31/2016 22:46</td>\n",
       "      <td>3/31/2016 22:56</td>\n",
       "      <td>31105</td>\n",
       "      <td>14th &amp; Harvard St NW</td>\n",
       "      <td>31266</td>\n",
       "      <td>11th &amp; M St NW</td>\n",
       "      <td>W21385</td>\n",
       "      <td>Registered</td>\n",
       "    </tr>\n",
       "    <tr>\n",
       "      <th>2</th>\n",
       "      <td>397979</td>\n",
       "      <td>3/31/2016 22:46</td>\n",
       "      <td>3/31/2016 22:53</td>\n",
       "      <td>31634</td>\n",
       "      <td>3rd &amp; Tingey St SE</td>\n",
       "      <td>31108</td>\n",
       "      <td>4th &amp; M St SW</td>\n",
       "      <td>W00773</td>\n",
       "      <td>Registered</td>\n",
       "    </tr>\n",
       "    <tr>\n",
       "      <th>3</th>\n",
       "      <td>444282</td>\n",
       "      <td>3/31/2016 22:42</td>\n",
       "      <td>3/31/2016 22:50</td>\n",
       "      <td>31200</td>\n",
       "      <td>Massachusetts Ave &amp; Dupont Circle NW</td>\n",
       "      <td>31201</td>\n",
       "      <td>15th &amp; P St NW</td>\n",
       "      <td>W21397</td>\n",
       "      <td>Registered</td>\n",
       "    </tr>\n",
       "    <tr>\n",
       "      <th>4</th>\n",
       "      <td>780875</td>\n",
       "      <td>3/31/2016 22:21</td>\n",
       "      <td>3/31/2016 22:34</td>\n",
       "      <td>31203</td>\n",
       "      <td>14th &amp; Rhode Island Ave NW</td>\n",
       "      <td>31604</td>\n",
       "      <td>3rd &amp; H St NW</td>\n",
       "      <td>W00213</td>\n",
       "      <td>Registered</td>\n",
       "    </tr>\n",
       "  </tbody>\n",
       "</table>\n",
       "</div>"
      ],
      "text/plain": [
       "   Duration (ms)       Start date         End date  Start station number  \\\n",
       "0         427387  3/31/2016 22:57  3/31/2016 23:04                 31602   \n",
       "1         587551  3/31/2016 22:46  3/31/2016 22:56                 31105   \n",
       "2         397979  3/31/2016 22:46  3/31/2016 22:53                 31634   \n",
       "3         444282  3/31/2016 22:42  3/31/2016 22:50                 31200   \n",
       "4         780875  3/31/2016 22:21  3/31/2016 22:34                 31203   \n",
       "\n",
       "                          Start station  End station number  \\\n",
       "0               Park Rd & Holmead Pl NW               31207   \n",
       "1                  14th & Harvard St NW               31266   \n",
       "2                    3rd & Tingey St SE               31108   \n",
       "3  Massachusetts Ave & Dupont Circle NW               31201   \n",
       "4            14th & Rhode Island Ave NW               31604   \n",
       "\n",
       "                      End station Bike number Member Type  \n",
       "0  Georgia Ave and Fairmont St NW      W20842  Registered  \n",
       "1                  11th & M St NW      W21385  Registered  \n",
       "2                   4th & M St SW      W00773  Registered  \n",
       "3                  15th & P St NW      W21397  Registered  \n",
       "4                   3rd & H St NW      W00213  Registered  "
      ]
     },
     "execution_count": 38,
     "metadata": {},
     "output_type": "execute_result"
    }
   ],
   "source": [
    "df.head()"
   ]
  },
  {
   "cell_type": "code",
   "execution_count": 39,
   "id": "acdd64a3",
   "metadata": {},
   "outputs": [
    {
     "ename": "AttributeError",
     "evalue": "'DataFrame' object has no attribute 'Series'",
     "output_type": "error",
     "traceback": [
      "\u001b[0;31m---------------------------------------------------------------------------\u001b[0m",
      "\u001b[0;31mAttributeError\u001b[0m                            Traceback (most recent call last)",
      "\u001b[0;32m<ipython-input-39-a20f81282d64>\u001b[0m in \u001b[0;36m<module>\u001b[0;34m\u001b[0m\n\u001b[0;32m----> 1\u001b[0;31m \u001b[0mdf\u001b[0m\u001b[0;34m.\u001b[0m\u001b[0mSeries\u001b[0m\u001b[0;34m(\u001b[0m\u001b[0;34m[\u001b[0m\u001b[0;36m1\u001b[0m\u001b[0;34m,\u001b[0m \u001b[0;36m2\u001b[0m\u001b[0;34m,\u001b[0m \u001b[0;36m3\u001b[0m\u001b[0;34m,\u001b[0m \u001b[0;36m4\u001b[0m\u001b[0;34m,\u001b[0m \u001b[0;36m5\u001b[0m\u001b[0;34m,\u001b[0m \u001b[0;36m6\u001b[0m\u001b[0;34m,\u001b[0m \u001b[0;36m7\u001b[0m\u001b[0;34m,\u001b[0m \u001b[0;36m7\u001b[0m\u001b[0;34m,\u001b[0m \u001b[0;36m8\u001b[0m\u001b[0;34m,\u001b[0m \u001b[0;36m9\u001b[0m\u001b[0;34m]\u001b[0m\u001b[0;34m)\u001b[0m\u001b[0;34m\u001b[0m\u001b[0;34m\u001b[0m\u001b[0m\n\u001b[0m",
      "\u001b[0;32m~/.local/lib/python3.6/site-packages/pandas/core/generic.py\u001b[0m in \u001b[0;36m__getattr__\u001b[0;34m(self, name)\u001b[0m\n\u001b[1;32m   5139\u001b[0m             \u001b[0;32mif\u001b[0m \u001b[0mself\u001b[0m\u001b[0;34m.\u001b[0m\u001b[0m_info_axis\u001b[0m\u001b[0;34m.\u001b[0m\u001b[0m_can_hold_identifiers_and_holds_name\u001b[0m\u001b[0;34m(\u001b[0m\u001b[0mname\u001b[0m\u001b[0;34m)\u001b[0m\u001b[0;34m:\u001b[0m\u001b[0;34m\u001b[0m\u001b[0;34m\u001b[0m\u001b[0m\n\u001b[1;32m   5140\u001b[0m                 \u001b[0;32mreturn\u001b[0m \u001b[0mself\u001b[0m\u001b[0;34m[\u001b[0m\u001b[0mname\u001b[0m\u001b[0;34m]\u001b[0m\u001b[0;34m\u001b[0m\u001b[0;34m\u001b[0m\u001b[0m\n\u001b[0;32m-> 5141\u001b[0;31m             \u001b[0;32mreturn\u001b[0m \u001b[0mobject\u001b[0m\u001b[0;34m.\u001b[0m\u001b[0m__getattribute__\u001b[0m\u001b[0;34m(\u001b[0m\u001b[0mself\u001b[0m\u001b[0;34m,\u001b[0m \u001b[0mname\u001b[0m\u001b[0;34m)\u001b[0m\u001b[0;34m\u001b[0m\u001b[0;34m\u001b[0m\u001b[0m\n\u001b[0m\u001b[1;32m   5142\u001b[0m \u001b[0;34m\u001b[0m\u001b[0m\n\u001b[1;32m   5143\u001b[0m     \u001b[0;32mdef\u001b[0m \u001b[0m__setattr__\u001b[0m\u001b[0;34m(\u001b[0m\u001b[0mself\u001b[0m\u001b[0;34m,\u001b[0m \u001b[0mname\u001b[0m\u001b[0;34m:\u001b[0m \u001b[0mstr\u001b[0m\u001b[0;34m,\u001b[0m \u001b[0mvalue\u001b[0m\u001b[0;34m)\u001b[0m \u001b[0;34m->\u001b[0m \u001b[0;32mNone\u001b[0m\u001b[0;34m:\u001b[0m\u001b[0;34m\u001b[0m\u001b[0;34m\u001b[0m\u001b[0m\n",
      "\u001b[0;31mAttributeError\u001b[0m: 'DataFrame' object has no attribute 'Series'"
     ]
    }
   ],
   "source": [
    "pd.Series([1, 2, 3, 4, 5, 6, 7, 7, 8, 9])"
   ]
  },
  {
   "cell_type": "code",
   "execution_count": null,
   "id": "49f2069b",
   "metadata": {},
   "outputs": [],
   "source": []
  }
 ],
 "metadata": {
  "kernelspec": {
   "display_name": "Python 3",
   "language": "python",
   "name": "python3"
  },
  "language_info": {
   "codemirror_mode": {
    "name": "ipython",
    "version": 3
   },
   "file_extension": ".py",
   "mimetype": "text/x-python",
   "name": "python",
   "nbconvert_exporter": "python",
   "pygments_lexer": "ipython3",
   "version": "3.6.9"
  }
 },
 "nbformat": 4,
 "nbformat_minor": 5
}
