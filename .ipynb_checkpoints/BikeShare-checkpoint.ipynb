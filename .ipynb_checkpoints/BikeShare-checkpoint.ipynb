{
 "cells": [
  {
   "cell_type": "code",
   "execution_count": 1,
   "id": "82420259",
   "metadata": {},
   "outputs": [],
   "source": [
    "import pandas as pd\n",
    "import numpy as np\n",
    "import seaborn as sns\n",
    "import matplotlib.pyplot as plt"
   ]
  },
  {
   "cell_type": "code",
   "execution_count": 2,
   "id": "d03df541",
   "metadata": {},
   "outputs": [],
   "source": [
    "path  = '/home/sam/Desktop/MachienLearning/BikeShare/'"
   ]
  },
  {
   "cell_type": "code",
   "execution_count": 3,
   "id": "75d4b547",
   "metadata": {},
   "outputs": [],
   "source": [
    "chi = pd.read_csv(path+'Chicago.csv')\n",
    "nyc = pd.read_csv(path+'Nyc.csv')\n",
    "Wash = pd.read_csv(path+'Washington.csv')"
   ]
  },
  {
   "cell_type": "code",
   "execution_count": 4,
   "id": "eaa66523",
   "metadata": {},
   "outputs": [],
   "source": [
    "df = chi"
   ]
  },
  {
   "cell_type": "code",
   "execution_count": 5,
   "id": "efb39c2d",
   "metadata": {},
   "outputs": [
    {
     "name": "stdout",
     "output_type": "stream",
     "text": [
      "<class 'pandas.core.frame.DataFrame'>\n",
      "RangeIndex: 72131 entries, 0 to 72130\n",
      "Data columns (total 12 columns):\n",
      " #   Column             Non-Null Count  Dtype  \n",
      "---  ------             --------------  -----  \n",
      " 0   trip_id            72131 non-null  int64  \n",
      " 1   starttime          72131 non-null  object \n",
      " 2   stoptime           72131 non-null  object \n",
      " 3   bikeid             72131 non-null  int64  \n",
      " 4   tripduration       72131 non-null  int64  \n",
      " 5   from_station_id    72131 non-null  int64  \n",
      " 6   from_station_name  72131 non-null  object \n",
      " 7   to_station_id      72131 non-null  int64  \n",
      " 8   to_station_name    72131 non-null  object \n",
      " 9   usertype           72131 non-null  object \n",
      " 10  gender             54977 non-null  object \n",
      " 11  birthyear          54986 non-null  float64\n",
      "dtypes: float64(1), int64(5), object(6)\n",
      "memory usage: 6.6+ MB\n"
     ]
    }
   ],
   "source": [
    "df.info()"
   ]
  },
  {
   "cell_type": "code",
   "execution_count": 6,
   "id": "3f548c39",
   "metadata": {},
   "outputs": [
    {
     "data": {
      "text/html": [
       "<div>\n",
       "<style scoped>\n",
       "    .dataframe tbody tr th:only-of-type {\n",
       "        vertical-align: middle;\n",
       "    }\n",
       "\n",
       "    .dataframe tbody tr th {\n",
       "        vertical-align: top;\n",
       "    }\n",
       "\n",
       "    .dataframe thead th {\n",
       "        text-align: right;\n",
       "    }\n",
       "</style>\n",
       "<table border=\"1\" class=\"dataframe\">\n",
       "  <thead>\n",
       "    <tr style=\"text-align: right;\">\n",
       "      <th></th>\n",
       "      <th>trip_id</th>\n",
       "      <th>starttime</th>\n",
       "      <th>stoptime</th>\n",
       "      <th>bikeid</th>\n",
       "      <th>tripduration</th>\n",
       "      <th>from_station_id</th>\n",
       "      <th>from_station_name</th>\n",
       "      <th>to_station_id</th>\n",
       "      <th>to_station_name</th>\n",
       "      <th>usertype</th>\n",
       "      <th>gender</th>\n",
       "      <th>birthyear</th>\n",
       "    </tr>\n",
       "  </thead>\n",
       "  <tbody>\n",
       "    <tr>\n",
       "      <th>0</th>\n",
       "      <td>9080545</td>\n",
       "      <td>3/31/2016 23:30</td>\n",
       "      <td>3/31/2016 23:46</td>\n",
       "      <td>2295</td>\n",
       "      <td>926</td>\n",
       "      <td>156</td>\n",
       "      <td>Clark St &amp; Wellington Ave</td>\n",
       "      <td>166</td>\n",
       "      <td>Ashland Ave &amp; Wrightwood Ave</td>\n",
       "      <td>Subscriber</td>\n",
       "      <td>Male</td>\n",
       "      <td>1990.0</td>\n",
       "    </tr>\n",
       "    <tr>\n",
       "      <th>1</th>\n",
       "      <td>9080521</td>\n",
       "      <td>3/31/2016 22:59</td>\n",
       "      <td>3/31/2016 23:02</td>\n",
       "      <td>3439</td>\n",
       "      <td>198</td>\n",
       "      <td>259</td>\n",
       "      <td>California Ave &amp; Francis Pl</td>\n",
       "      <td>276</td>\n",
       "      <td>California Ave &amp; North Ave</td>\n",
       "      <td>Subscriber</td>\n",
       "      <td>Male</td>\n",
       "      <td>1974.0</td>\n",
       "    </tr>\n",
       "    <tr>\n",
       "      <th>2</th>\n",
       "      <td>9080479</td>\n",
       "      <td>3/31/2016 22:24</td>\n",
       "      <td>3/31/2016 22:26</td>\n",
       "      <td>4337</td>\n",
       "      <td>124</td>\n",
       "      <td>344</td>\n",
       "      <td>Ravenswood Ave &amp; Lawrence Ave</td>\n",
       "      <td>242</td>\n",
       "      <td>Damen Ave &amp; Leland Ave</td>\n",
       "      <td>Subscriber</td>\n",
       "      <td>Female</td>\n",
       "      <td>1992.0</td>\n",
       "    </tr>\n",
       "    <tr>\n",
       "      <th>3</th>\n",
       "      <td>9080475</td>\n",
       "      <td>3/31/2016 22:22</td>\n",
       "      <td>3/31/2016 22:41</td>\n",
       "      <td>3760</td>\n",
       "      <td>1181</td>\n",
       "      <td>318</td>\n",
       "      <td>Southport Ave &amp; Irving Park Rd</td>\n",
       "      <td>458</td>\n",
       "      <td>Broadway &amp; Thorndale Ave</td>\n",
       "      <td>Subscriber</td>\n",
       "      <td>Female</td>\n",
       "      <td>1979.0</td>\n",
       "    </tr>\n",
       "    <tr>\n",
       "      <th>4</th>\n",
       "      <td>9080443</td>\n",
       "      <td>3/31/2016 22:08</td>\n",
       "      <td>3/31/2016 22:19</td>\n",
       "      <td>1270</td>\n",
       "      <td>656</td>\n",
       "      <td>345</td>\n",
       "      <td>Lake Park Ave &amp; 56th St</td>\n",
       "      <td>426</td>\n",
       "      <td>Ellis Ave &amp; 60th St</td>\n",
       "      <td>Subscriber</td>\n",
       "      <td>Female</td>\n",
       "      <td>1997.0</td>\n",
       "    </tr>\n",
       "  </tbody>\n",
       "</table>\n",
       "</div>"
      ],
      "text/plain": [
       "   trip_id        starttime         stoptime  bikeid  tripduration  \\\n",
       "0  9080545  3/31/2016 23:30  3/31/2016 23:46    2295           926   \n",
       "1  9080521  3/31/2016 22:59  3/31/2016 23:02    3439           198   \n",
       "2  9080479  3/31/2016 22:24  3/31/2016 22:26    4337           124   \n",
       "3  9080475  3/31/2016 22:22  3/31/2016 22:41    3760          1181   \n",
       "4  9080443  3/31/2016 22:08  3/31/2016 22:19    1270           656   \n",
       "\n",
       "   from_station_id               from_station_name  to_station_id  \\\n",
       "0              156       Clark St & Wellington Ave            166   \n",
       "1              259     California Ave & Francis Pl            276   \n",
       "2              344   Ravenswood Ave & Lawrence Ave            242   \n",
       "3              318  Southport Ave & Irving Park Rd            458   \n",
       "4              345         Lake Park Ave & 56th St            426   \n",
       "\n",
       "                to_station_name    usertype  gender  birthyear  \n",
       "0  Ashland Ave & Wrightwood Ave  Subscriber    Male     1990.0  \n",
       "1    California Ave & North Ave  Subscriber    Male     1974.0  \n",
       "2        Damen Ave & Leland Ave  Subscriber  Female     1992.0  \n",
       "3      Broadway & Thorndale Ave  Subscriber  Female     1979.0  \n",
       "4           Ellis Ave & 60th St  Subscriber  Female     1997.0  "
      ]
     },
     "execution_count": 6,
     "metadata": {},
     "output_type": "execute_result"
    }
   ],
   "source": [
    "df.head()"
   ]
  },
  {
   "cell_type": "code",
   "execution_count": 7,
   "id": "5830482b",
   "metadata": {},
   "outputs": [],
   "source": [
    "# lets remove string variables\n",
    "string_var = [col for col in df.columns if 'name' in col]"
   ]
  },
  {
   "cell_type": "code",
   "execution_count": 8,
   "id": "c12d9a21",
   "metadata": {},
   "outputs": [],
   "source": [
    "df.drop(string_var, axis=1, inplace =True)"
   ]
  },
  {
   "cell_type": "code",
   "execution_count": 9,
   "id": "dcef287f",
   "metadata": {},
   "outputs": [
    {
     "name": "stdout",
     "output_type": "stream",
     "text": [
      "<class 'pandas.core.frame.DataFrame'>\n",
      "RangeIndex: 72131 entries, 0 to 72130\n",
      "Data columns (total 10 columns):\n",
      " #   Column           Non-Null Count  Dtype  \n",
      "---  ------           --------------  -----  \n",
      " 0   trip_id          72131 non-null  int64  \n",
      " 1   starttime        72131 non-null  object \n",
      " 2   stoptime         72131 non-null  object \n",
      " 3   bikeid           72131 non-null  int64  \n",
      " 4   tripduration     72131 non-null  int64  \n",
      " 5   from_station_id  72131 non-null  int64  \n",
      " 6   to_station_id    72131 non-null  int64  \n",
      " 7   usertype         72131 non-null  object \n",
      " 8   gender           54977 non-null  object \n",
      " 9   birthyear        54986 non-null  float64\n",
      "dtypes: float64(1), int64(5), object(4)\n",
      "memory usage: 5.5+ MB\n"
     ]
    }
   ],
   "source": [
    "df.info()"
   ]
  },
  {
   "cell_type": "code",
   "execution_count": 29,
   "id": "1ceef660",
   "metadata": {},
   "outputs": [],
   "source": [
    "# lets convert time variables\n",
    "df['starttime'] = pd.to_datetime(df['startime'])\n",
    "df['stoptime'] = pd.to_datetime(df['stoptime'])"
   ]
  },
  {
   "cell_type": "code",
   "execution_count": 31,
   "id": "4b1fedd9",
   "metadata": {},
   "outputs": [],
   "source": [
    "df['day'] = df['stoptime'].dt.day - df['starttime'].dt.day\n",
    "df['month'] = df['stoptime'].dt.month - df['starttime'].dt.month\n",
    "df['year'] = df['stoptime'].dt.year - df['starttime'].dt.year"
   ]
  },
  {
   "cell_type": "code",
   "execution_count": 32,
   "id": "5c9f95e2",
   "metadata": {},
   "outputs": [],
   "source": [
    "# find out max duration of riding\n",
    "df['duration'] = df['stoptime'] - df['starttime']"
   ]
  },
  {
   "cell_type": "code",
   "execution_count": 33,
   "id": "9e7de0b8",
   "metadata": {},
   "outputs": [],
   "source": [
    "a = df['duration'].dt.components['hours']\n",
    "b = df['duration'].dt.components['minutes']\n",
    "c= df['duration'].dt.components['seconds']\n",
    "d= df['duration'].dt.days"
   ]
  },
  {
   "cell_type": "code",
   "execution_count": 34,
   "id": "9549e53e",
   "metadata": {},
   "outputs": [],
   "source": [
    "df['dur'] = a + b + c + d"
   ]
  },
  {
   "cell_type": "code",
   "execution_count": 35,
   "id": "82d23974",
   "metadata": {},
   "outputs": [],
   "source": [
    "i = np.arange(1, 72132, 1)"
   ]
  },
  {
   "cell_type": "code",
   "execution_count": 36,
   "id": "318873fd",
   "metadata": {},
   "outputs": [
    {
     "data": {
      "text/plain": [
       "count    72131.000000\n",
       "mean        14.165754\n",
       "std         10.041163\n",
       "min          1.000000\n",
       "25%          7.000000\n",
       "50%         12.000000\n",
       "75%         19.000000\n",
       "max         73.000000\n",
       "Name: dur, dtype: float64"
      ]
     },
     "execution_count": 36,
     "metadata": {},
     "output_type": "execute_result"
    }
   ],
   "source": [
    "df['dur'].describe()"
   ]
  },
  {
   "cell_type": "code",
   "execution_count": 37,
   "id": "d4d686de",
   "metadata": {},
   "outputs": [
    {
     "name": "stderr",
     "output_type": "stream",
     "text": [
      "/home/sam/.local/lib/python3.6/site-packages/seaborn/_decorators.py:43: FutureWarning: Pass the following variable as a keyword arg: x. From version 0.12, the only valid positional argument will be `data`, and passing other arguments without an explicit keyword will result in an error or misinterpretation.\n",
      "  FutureWarning\n"
     ]
    },
    {
     "data": {
      "text/plain": [
       "<AxesSubplot:xlabel='dur'>"
      ]
     },
     "execution_count": 37,
     "metadata": {},
     "output_type": "execute_result"
    },
    {
     "data": {
      "image/png": "[encoded data removed]",
      "text/plain": [
       "<Figure size 432x288 with 1 Axes>"
      ]
     },
     "metadata": {
      "needs_background": "light"
     },
     "output_type": "display_data"
    }
   ],
   "source": [
    "sns.boxplot(df['dur'])"
   ]
  },
  {
   "cell_type": "markdown",
   "id": "2a784728",
   "metadata": {},
   "source": [
    "## Which bike was most far rided??"
   ]
  },
  {
   "cell_type": "code",
   "execution_count": 74,
   "id": "1da87639",
   "metadata": {},
   "outputs": [
    {
     "data": {
      "text/html": [
       "<div>\n",
       "<style scoped>\n",
       "    .dataframe tbody tr th:only-of-type {\n",
       "        vertical-align: middle;\n",
       "    }\n",
       "\n",
       "    .dataframe tbody tr th {\n",
       "        vertical-align: top;\n",
       "    }\n",
       "\n",
       "    .dataframe thead th {\n",
       "        text-align: right;\n",
       "    }\n",
       "</style>\n",
       "<table border=\"1\" class=\"dataframe\">\n",
       "  <thead>\n",
       "    <tr style=\"text-align: right;\">\n",
       "      <th></th>\n",
       "      <th>trip_id</th>\n",
       "      <th>bikeid</th>\n",
       "      <th>tripduration</th>\n",
       "      <th>from_station_id</th>\n",
       "      <th>to_station_id</th>\n",
       "      <th>usertype</th>\n",
       "      <th>gender</th>\n",
       "      <th>birthyear</th>\n",
       "      <th>duration</th>\n",
       "      <th>dur</th>\n",
       "    </tr>\n",
       "  </thead>\n",
       "  <tbody>\n",
       "    <tr>\n",
       "      <th>57035</th>\n",
       "      <td>10507693</td>\n",
       "      <td>525</td>\n",
       "      <td>71662</td>\n",
       "      <td>518</td>\n",
       "      <td>495</td>\n",
       "      <td>Subscriber</td>\n",
       "      <td>Male</td>\n",
       "      <td>1984.0</td>\n",
       "      <td>0 days 19:54:00</td>\n",
       "      <td>73</td>\n",
       "    </tr>\n",
       "  </tbody>\n",
       "</table>\n",
       "</div>"
      ],
      "text/plain": [
       "        trip_id  bikeid  tripduration  from_station_id  to_station_id  \\\n",
       "57035  10507693     525         71662              518            495   \n",
       "\n",
       "         usertype gender  birthyear        duration  dur  \n",
       "57035  Subscriber   Male     1984.0 0 days 19:54:00   73  "
      ]
     },
     "execution_count": 74,
     "metadata": {},
     "output_type": "execute_result"
    }
   ],
   "source": [
    "df[df['dur'] == 73]"
   ]
  },
  {
   "cell_type": "code",
   "execution_count": 39,
   "id": "c6380e12",
   "metadata": {},
   "outputs": [],
   "source": [
    "df.drop([col for col in df.columns if 'time' in col], axis=1, inplace = True)"
   ]
  },
  {
   "cell_type": "code",
   "execution_count": 43,
   "id": "fad52f96",
   "metadata": {},
   "outputs": [],
   "source": [
    "df.drop(['day', 'month', 'year'], axis =1, inplace = True)"
   ]
  },
  {
   "cell_type": "code",
   "execution_count": 100,
   "id": "b2631d3e",
   "metadata": {},
   "outputs": [
    {
     "data": {
      "text/html": [
       "<div>\n",
       "<style scoped>\n",
       "    .dataframe tbody tr th:only-of-type {\n",
       "        vertical-align: middle;\n",
       "    }\n",
       "\n",
       "    .dataframe tbody tr th {\n",
       "        vertical-align: top;\n",
       "    }\n",
       "\n",
       "    .dataframe thead th {\n",
       "        text-align: right;\n",
       "    }\n",
       "</style>\n",
       "<table border=\"1\" class=\"dataframe\">\n",
       "  <thead>\n",
       "    <tr style=\"text-align: right;\">\n",
       "      <th></th>\n",
       "      <th>trip_id</th>\n",
       "      <th>bikeid</th>\n",
       "      <th>tripduration</th>\n",
       "      <th>from_station_id</th>\n",
       "      <th>to_station_id</th>\n",
       "      <th>usertype</th>\n",
       "      <th>gender</th>\n",
       "      <th>birthyear</th>\n",
       "      <th>duration</th>\n",
       "      <th>dur</th>\n",
       "    </tr>\n",
       "  </thead>\n",
       "  <tbody>\n",
       "    <tr>\n",
       "      <th>36356</th>\n",
       "      <td>11747944</td>\n",
       "      <td>1142</td>\n",
       "      <td>86365</td>\n",
       "      <td>252</td>\n",
       "      <td>252</td>\n",
       "      <td>Customer</td>\n",
       "      <td>NaN</td>\n",
       "      <td>NaN</td>\n",
       "      <td>1 days</td>\n",
       "      <td>1</td>\n",
       "    </tr>\n",
       "  </tbody>\n",
       "</table>\n",
       "</div>"
      ],
      "text/plain": [
       "        trip_id  bikeid  tripduration  from_station_id  to_station_id  \\\n",
       "36356  11747944    1142         86365              252            252   \n",
       "\n",
       "       usertype gender  birthyear duration  dur  \n",
       "36356  Customer    NaN        NaN   1 days    1  "
      ]
     },
     "execution_count": 100,
     "metadata": {},
     "output_type": "execute_result"
    }
   ],
   "source": [
    "df[df['tripduration']== df['tripduration'].max()]"
   ]
  },
  {
   "cell_type": "raw",
   "id": "133263e1",
   "metadata": {},
   "source": []
  },
  {
   "cell_type": "code",
   "execution_count": null,
   "id": "e53a79b5",
   "metadata": {},
   "outputs": [],
   "source": []
  },
  {
   "cell_type": "code",
   "execution_count": null,
   "id": "d55c0e39",
   "metadata": {},
   "outputs": [],
   "source": []
  },
  {
   "cell_type": "code",
   "execution_count": null,
   "id": "cfbf818e",
   "metadata": {},
   "outputs": [],
   "source": []
  }
 ],
 "metadata": {
  "kernelspec": {
   "display_name": "Python 3",
   "language": "python",
   "name": "python3"
  },
  "language_info": {
   "codemirror_mode": {
    "name": "ipython",
    "version": 3
   },
   "file_extension": ".py",
   "mimetype": "text/x-python",
   "name": "python",
   "nbconvert_exporter": "python",
   "pygments_lexer": "ipython3",
   "version": "3.6.9"
  }
 },
 "nbformat": 4,
 "nbformat_minor": 5
}
